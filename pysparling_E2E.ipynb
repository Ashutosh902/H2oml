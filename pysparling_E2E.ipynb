{
 "cells": [
  {
   "cell_type": "code",
   "execution_count": null,
   "metadata": {},
   "outputs": [],
   "source": [
    "# Seting up spark spark session\n",
    "import findspark\n",
    "findspark.init()\n",
    "from pyspark import SparkConf\n",
    "from pyspark.sql import SparkSession\n"
   ]
  },
  {
   "cell_type": "code",
   "execution_count": null,
   "metadata": {},
   "outputs": [],
   "source": [
    "conf = SparkConf().setMaster('local').set(\"spark.local.dir\",\"C:/Users/Ashutosh/Desktop/Study/Pyspark\")\n",
    "spark = SparkSession \\\n",
    "       .builder \\\n",
    "       .config(conf=conf) \\\n",
    "       .appName('pysparkling water basic') \\\n",
    "       .getOrCreate()"
   ]
  },
  {
   "cell_type": "code",
   "execution_count": null,
   "metadata": {},
   "outputs": [],
   "source": [
    "import h2o\n",
    "from h2o.automl import H2OAutoML\n",
    "\n",
    "import pandas as pd\n",
    "from sklearn import datasets\n",
    "\n",
    "from pysparkling import *\n",
    "from pysparkling.ml import *\n"
   ]
  },
  {
   "cell_type": "code",
   "execution_count": null,
   "metadata": {},
   "outputs": [],
   "source": [
    "hc = H2OContext.getOrCreate(spark)"
   ]
  },
  {
   "cell_type": "code",
   "execution_count": null,
   "metadata": {},
   "outputs": [],
   "source": [
    "h2o_df = h2o.import_file('winequality.csv', sep =';')"
   ]
  },
  {
   "cell_type": "code",
   "execution_count": null,
   "metadata": {},
   "outputs": [],
   "source": [
    "h2o_df.head(5)"
   ]
  },
  {
   "cell_type": "code",
   "execution_count": null,
   "metadata": {},
   "outputs": [],
   "source": [
    "train_data, test_data = h2o_df.split_frame([0.8])"
   ]
  },
  {
   "cell_type": "code",
   "execution_count": null,
   "metadata": {},
   "outputs": [],
   "source": [
    "y = \"label\"\n",
    "x = h2o_df.columns\n",
    "x.remove(y)\n",
    "train_data[y] = train_data[y].asfactor()\n",
    "test_data[y] = test_data[y].asfactor()"
   ]
  },
  {
   "cell_type": "code",
   "execution_count": null,
   "metadata": {},
   "outputs": [],
   "source": [
    "automl_model = H2OAutoML(maxModels=5, \n",
    "                         maxRuntimeSecs=  60, \n",
    "                         labelCol='quality',\n",
    "                         convertUnknownCategoricalLevelsToNa= True,\n",
    "                         seed =1)\n",
    "automl_model.train(X = x, y=y, training_frame = train_data)\n",
    "automl_model.predict(test_data)"
   ]
  },
  {
   "cell_type": "code",
   "execution_count": null,
   "metadata": {},
   "outputs": [],
   "source": [
    "modelfile = automl_model.download_mojo(path = \"C:/Users/Ashutosh/Desktop/Study/Pyspark\", get_genmodel_jar = True)\n",
    "print(\"Model saved to \" + modelfile)"
   ]
  },
  {
   "cell_type": "code",
   "execution_count": null,
   "metadata": {},
   "outputs": [],
   "source": [
    "mojo_file = 'file:///'+ modelfile\n",
    "settings= H2OMOJOSettings(convertUnknownCategoricalLevelsToNa= True,\n",
    "                          convertInvalidNumbersToNa= True,\n",
    "                          withDetailedPredictionCol= True)\n",
    "h2o_model = H2OMOJOModel.createFromMojo(mojo_file , settings)"
   ]
  },
  {
   "cell_type": "code",
   "execution_count": null,
   "metadata": {},
   "outputs": [],
   "source": [
    "pred_spark_df = load()\n",
    "prediction = h2o_model.transform(pred_spark_df)\n",
    "prediction.show()"
   ]
  }
 ],
 "metadata": {
  "kernelspec": {
   "display_name": "Python 3",
   "language": "python",
   "name": "python3"
  },
  "language_info": {
   "codemirror_mode": {
    "name": "ipython",
    "version": 3
   },
   "file_extension": ".py",
   "mimetype": "text/x-python",
   "name": "python",
   "nbconvert_exporter": "python",
   "pygments_lexer": "ipython3",
   "version": "3.7.4"
  }
 },
 "nbformat": 4,
 "nbformat_minor": 2
}
